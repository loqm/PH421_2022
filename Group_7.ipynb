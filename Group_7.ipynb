{
  "cells": [
    {
      "cell_type": "code",
      "execution_count": null,
      "id": "6eb68171",
      "metadata": {
        "id": "6eb68171"
      },
      "outputs": [],
      "source": [
        "# We will be using Markdown to display text"
      ]
    },
    {
      "cell_type": "markdown",
      "id": "a29039bf",
      "metadata": {
        "id": "a29039bf"
      },
      "source": [
        "# Relaxed Phase-Matching Constraints In Zero-Index Waveguides\n",
        "\n",
        "An executable paper by Aryaman Mihir Seth, Divyansh Tiwari, Jesper Laurberg Sand, Nidhi Shaw, and Tina Garg,\n",
        "inspired by the recent [publication in Physical Review Letters](https://journals.aps.org/prl/abstract/10.1103/PhysRevLett.128.203902) by the same name. \n"
      ]
    },
    {
      "cell_type": "markdown",
      "id": "8f311ecd",
      "metadata": {
        "id": "8f311ecd"
      },
      "source": [
        "## Individual Contributions to the Executable Paper\n",
        "\n",
        "- **Aryaman**: Part 1, Part 6, Part 4.1, Part 4.2  \n",
        "    - Plots:\n",
        "      1. Theoretical prediction of the forward idler wave with co-propagating pump and signal waves in part 4.2\n",
        "      2. Theoretical prediction of the backward idler wave with co-propagating pump and signal waves in part 4.2\n",
        "      3. All plots in part-3  \n",
        "\n",
        "\n",
        "\n",
        "      \n",
        "- **Divyansh**: Part 4.3, Part 4.4, Part 4.5\n",
        "    - Plots:\n",
        "        1. Analysis of the effect of loss over n values and their effect on the idler peaks in 4.2\n",
        "        2. Analysis of the effect of permeability over n values and their effect on the idler peaks in 4.2 \n",
        "        3. Plots of omnidirectional Phase matching in part 4.5\n",
        "        4. Two plots demonstrating the swap in the frame of reference in the waveguide in part 4.2  \n",
        "\n",
        "\n",
        "\n",
        "        \n",
        "- **Jesper**: Part-5:The Experiment  \n",
        "\n",
        "\n",
        "- **Tina**: Part-2: Theory  \n",
        "\n",
        "\n",
        "- **Nidhi**: Part-3:Dirac Cone Metamaterials "
      ]
    },
    {
      "cell_type": "code",
      "execution_count": null,
      "id": "8e668dea",
      "metadata": {
        "id": "8e668dea"
      },
      "outputs": [],
      "source": [
        "#Dependencies\n",
        "import pandas as pd\n",
        "import numpy as np\n",
        "import math\n",
        "import matplotlib.pyplot as plt\n",
        "import decimal\n",
        "decimal.getcontext().prec = 100\n",
        "\n",
        "from scipy.interpolate import interp1d\n",
        "from scipy import interpolate \n",
        "from scipy.interpolate import make_interp_spline\n",
        "from scipy.signal import savgol_filter"
      ]
    },
    {
      "cell_type": "markdown",
      "id": "c44efbaa",
      "metadata": {
        "id": "c44efbaa"
      },
      "source": [
        "## Important Definitions and Abbreviations\n",
        "\n",
        "* **Parametric non-linear optical process**: An interaction wherein conservation of energy between the input and output light waves is maintained.\n",
        "* **Phase mismatch**: It quantifies the wave vector mismatch between the input and output light waves. A non-linear optical interaction is **phase matched** when the phase mismatch equals zero.\n",
        "* **Metamaterial**: Any material engineered to have a property that is not found in naturally occurring materials. \n",
        "* $\\bf l_c$: coherence length"
      ]
    },
    {
      "cell_type": "markdown",
      "source": [
        "## Motivation\n",
        "\n",
        "The relevance of non-linear optics is ever-increasing due to the plethora of real world applications it provides (for example: the omnipresent green laser pointers, which are based on second harmonic generation). However, **stringent phase matching requirements** limit the efficiency of several parametric non linear optical processes. Conventional techniques like quasi-phase matching and birefringent phase matching require specific configurations of the light beams involved, typically co-propagating along the same axis. Moreover, they only work for a specific range of wavelengths, demanding a medium with particular dispersion characteristics. Consequently, experimental devices are large and cumbersome.\n",
        "\n",
        "To overcome this, the authors experimentally demonstrate that phase-matching requirements in parametric nonlinear optical processes are satisfied for **multiple (all) orientations of input and output beams** when using **low (zero) index media**: a condition of omnidirectional phase matching. Thus, such metamaterials relax traditional phase matching constraints, facilitating non-linear interactions and making devices more flexible and compact! For instance, the all-optical transistor, a device that would have to rely on nonlinear optical interactions, could greatly benefit from efficient nonlinear interactions and miniaturization."
      ],
      "metadata": {
        "id": "hutfgbz6mZYy"
      },
      "id": "hutfgbz6mZYy"
    },
    {
      "cell_type": "markdown",
      "id": "af55fc22",
      "metadata": {
        "id": "af55fc22"
      },
      "source": [
        "## **1.  Background & History: Contextualizing the Publication**\n",
        "\n",
        "### Coherence Length\n",
        "\n",
        "When a nonlinear interaction is phase-mismatched (i.e., possesses non-zero wave-vector mismatch), the difference in accumulated phase between the frequency components of the nonlinear interaction can build up as they propagate in a nonlinear medium. Eventually, this discrepancy leads to newly generated photons interfering destructively with the propagating beam. Consequently, in such interactions, a nonlinear wave can only be generated over the coherent buildup length, more simply known as the coherence length, $l_c$, where substantial destructive interference does not yet occur. Thus $l_c$ is essentially the maximum length to which a power built up is observed, before phase mismatch between the pump and the generated wave results in amplitude decrease rather than growth[1].This discussion becomes more insightful when a little later, we discuss the work done by Suchowski et al. [2]\n",
        "\n",
        "### Previous Attempts\n",
        "\n",
        "Phase matching with non-conventional beam orientations has previously been investigated. In 2015, Lan et al. demonstrated the generation of a backward-propagating signal wave when using the nonlinear optical interaction of second-harmonic generation [3,4,5,6]. To accomplish this, they used a negative-index metamaterial that exhibited a positive refractive index at the pump wavelength $\\lambda_p$, and a negative refractive index equal in magnitude to the pump wave’s index at the signal wavelength $\\lambda_s = \\lambda_p/2$. Due to the wave vector’s dependence on the refractive index $$k=\\frac{2\\pi n}{\\lambda},$$ where k is the wave vector, n is the refractive index, and $\\lambda$ is the wavelength, the phase difference for a backward-propagating signal wave, $\\Delta k = 2k_p + k_s$, was equal to zero. Therefore, the interaction was perfectly phase-matched. Were the refractive index positive everywhere, phase matching a backward-propagating signal wave would not have been possible. However, phase-matching a backward-propagating signal wave in this manner means that a forward-propagating signal wave, whose phase mismatch is given by $\\Delta k = k_p - 2k_s$, is not phase-matched.\n",
        "\n",
        "In 2013, Suchowski et al. [2] demonstrated the simultaneous generation of forward and backward propagating signal waves using FWM. To accomplish this, they used a zero-index fishnet metamaterial and placed the generated signal wave at a wavelength where the refractive index was zero. When n = 0, light has a vanishing wave vector k = 0. This means that the sign in the phase mismatch dictated by the orientation of the signal wave becomes completely inconsequential to the value of the phase mismatch in this situation. As a result, the generated signal wave was free to be forward or backward propagating, without any directional restriction. This freedom in wave orientation eliminates one of the greatest restrictions of phase matching — the necessity for careful alignment and of a specific orientation for the input and output beams. However, while Suchowski et al. demonstrated the generation of forward and backward propagating idler beams for a particular arrangement of the pump and signal beams — co-propagation — they did not further corroborate this lack of directional restriction with any other arrangement of beams. Furthermore, the metamaterial that they used was shorter in thickness (d = 800 nm) than the free-space optical wavelength used in their experiment (1510 nm). It is well-known that phase mismatch is not a major concern over such small propagation lengths - recall our discussion on coherent length a little while earlier.\n",
        "\n",
        "### Overview of the publication - the authors' approach to phase matching\n",
        "\n",
        "The authors essentially address the phase-matching problem by using near-zero-index media, which exhibit a refractive index n of zero at a wavelength of 1600 nm, and a very small refractive index in a 100 nm range in the surrounding bandwidth. They investigate the underlying theory and present calculations that reveal the potential for omnidirectional phase matching in zero-index materials by using the nonlinear optical process of FWM as an exemplar. Furthermore, they perform experimental demonstrations of phase matching for five separate FWM beam configurations to confirm this phenomenon, and compare their experimental results to theoretical predictions.\n",
        "\n",
        "There are multiple improvements over the report published by Suchowski et al. The most notable among these is the removal of any dimensional restriction for all beams and not just the generated signal beam. Moreover, the setup works even when the input probe beam is orthogonal to the pump and signal. Critically, both of these feats are previously unobserved phenomena. The latter demonstration is of particular importance, as it reveals that the components of the nonlinear interaction need not even be collinear for an interaction to be phase-matched. Furthermore, the authors use a nonlinear waveguide 14.8 μm in length, as opposed to the 800 nm fishnet metamaterial employed by Suchowski et al. As stated above, in a shorter metasurface, phase mismatch is not a major concern due to the small propagation length not allowing the constituent waves to go out of phase. Finally, their demonstration uses multiple spectrally distinct beams as opposed to a degenerate FWM process. By having spectrally distinct components in their FWM process, their measurements are capable of cleanly isolating the generated nonlinear pulse from the inputs, and, therefore, unambiguously demonstrate the desired effect."
      ]
    },
    {
      "cell_type": "markdown",
      "id": "99ad940b",
      "metadata": {
        "id": "99ad940b"
      },
      "source": [
        "# **2. Theory**\n",
        "In this part, we look at the underlying theory of the experiment."
      ]
    },
    {
      "cell_type": "markdown",
      "id": "ff6fb192",
      "metadata": {
        "id": "ff6fb192"
      },
      "source": [
        "### **2.1 Basics**\n",
        "For a lossless and dispersionless material, there is a linear dependence of polarisation on electric field:\n",
        "\n",
        "$$\\textbf{P}(t)=\\epsilon_0\\chi^{(0)}\\textbf{E}(t)$$\n",
        "\n",
        "\n",
        "In a nonlinear medium, this dependence can be expanded to a power series.\n",
        "\n",
        "$$\\textbf{P}(t)=\\epsilon_0\\left[\\chi^{(1)}\\textbf{E}(t)+\\chi^{(2)}\\textbf{E}^2(t)+\\chi^{(3)}\\textbf{E}^3(t)+\\ldots\\right]$$\n",
        "\n",
        "The nonlinear susceptibilities are usually taken to be constants for a dispersionless medium."
      ]
    },
    {
      "cell_type": "markdown",
      "id": "06fcf335",
      "metadata": {
        "id": "06fcf335"
      },
      "source": [
        "The second order polarisation due to interaction of the light beam with the medium is:\n",
        "\n",
        "$$\\textbf{P}^{(2)}(t) = \\epsilon_0\\chi^{(2)}\\textbf{E}^2(t)$$\n",
        "\n",
        "We express the electric field in terms of two frequency components as:\n",
        "\n",
        "$$\\textbf{E}(t) = E_1e^{-i\\omega_1t}+E_2e^{-i\\omega_2t}+c.c.$$\n",
        "\n",
        "We can substitute this into the second-order polarisation and get\n",
        "\n",
        "$$\\textbf{P}^{(2)}(t) = 2\\epsilon_0\\chi^{(2)}(E_1E_1^*+E_2E_2^*)+\\epsilon_0\\chi^{(2)}(E_1^2e^{−2i\\omega_1t} + E_2^2e^{−2i\\omega_2t}+2E_1E_2e^{−i(\\omega_1+\\omega_2)t} + E_1E_2^∗e^{−i(\\omega_1−\\omega_2)t} + c.c.)$$\n"
      ]
    },
    {
      "cell_type": "markdown",
      "id": "d31040c7",
      "metadata": {
        "id": "d31040c7"
      },
      "source": [
        "The nonlinear interaction of second-harmonic generation is due to the following terms:\n",
        "\n",
        "$$P(2\\omega_1) = \\epsilon_0\\chi^{(2)}E_1^2 $$\n",
        "\n",
        "$$P(2\\omega_2) = \\epsilon_0\\chi^{(2)}E_2^2 $$\n",
        "\n",
        "The above two terms represnt the second-harmonic generation of signal waves of frequencies $\\omega=2\\omega_1$ and $\\omega=2\\omega_2$ from two pump waves of frequencies $\\omega_1$ and $\\omega_2$ respectively.\n",
        "\n",
        "There are other second-order interactions such as sum-frequency generation, difference-frequency generation and optical rectification.\n",
        "\n",
        "In sum-frequency generation (SFG), two photons of frequencies $\\omega_1$ and $\\omega_2$ combine to yield a photon of energy $\\omega_3=\\omega_1+\\omega_2$.\n",
        "\n",
        "In difference-frequency generation (DFG), a photon of higher frequency $\\omega_1$ splits into two new photons of frequencies $\\omega_2$ and $\\omega_3=\\omega_1-\\omega_2$.\n",
        "\n",
        "Finally, optical rectification occurs when the new frequency is the difference of one frequency with itself ($\\omega_3 = \\omega_1 - \\omega_1 = 0$). This generates a static electric field.\n"
      ]
    },
    {
      "cell_type": "markdown",
      "id": "748462e9",
      "metadata": {
        "id": "748462e9"
      },
      "source": [
        "### **2.2 Four-wave Mixing**\n",
        "\n",
        "This procedure involves third-order nonlinear processes:\n",
        "\n",
        "$$\\textbf{E}(t) = E_1e^{−i\\omega_1t} + E_2e^{−i\\omega_2t} + E_3e^{−i\\omega_3t} + c.c.$$\n",
        "\n",
        "Substituting the above equation in the polarisation power series expansion yields $44$ distinct frequency terms. So we use the pump-degenerate four-wave mixing which is a third-order nonlinear process. This process is described by the following term:\n",
        "\n",
        "$$P(2\\omega_1 −\\omega_2)=3\\epsilon_0\\chi^{(3)}E_1^2E_2^∗$$\n",
        "\n",
        "In a pump-degenerate FWM nonlinear process, two photons (pump photons) at a frequency $\\omega_1$ are converted into one photon (signal photon) of frequency $\\omega_2$ and one photon (iddler photon) of frequency $\\omega_3 = 2\\omega_1-\\omega_2$. We have:\n",
        "\n",
        "$$\\omega_p +\\omega_p = (\\omega_p +\\delta\\omega)+(\\omega_p −\\delta\\omega) $$\n",
        "$$=\\omega_s + \\omega_i$$\n",
        "\n",
        "The pump degeneracy here implies that both the pump photons have the same energy. Most FWM processes are pump-degenerate."
      ]
    },
    {
      "cell_type": "markdown",
      "id": "e491337e",
      "metadata": {
        "id": "e491337e"
      },
      "source": [
        "### **2.3 Wave Equation in Nonlinear Optics**\n",
        "\n",
        "Assume that the electric current density, $\\textbf{J} = 0$. Maxwell's equations:\n",
        "\\begin{equation*}\n",
        "\\nabla\\cdot \\textbf{D} = 0\n",
        "\\label{eq:maxwell_1} \\tag{1}\n",
        "\\end{equation*}\n",
        "\n",
        "\\begin{equation*}\n",
        "\\nabla\\cdot \\textbf{B} = 0\n",
        "\\label{eq:maxwell_2} \\tag{2}\n",
        "\\end{equation*}\n",
        "\n",
        "\\begin{equation*}\n",
        "\\nabla\\times \\textbf{E} = -\\frac{\\partial\\textbf{B}}{\\partial t}\n",
        "\\label{eq:maxwell_3} \\tag{3}\n",
        "\\end{equation*}\n",
        "\n",
        "\\begin{equation*}\n",
        "\\nabla\\times \\textbf{H} = \\frac{\\partial\\textbf{D}}{\\partial t}\n",
        "\\label{eq:maxwell_4} \\tag{4}\n",
        "\\end{equation*}\n",
        "\n",
        "<!-- $$\\nabla\\cdot \\textbf{D} = 0$$\n",
        "$$\\nabla\\cdot \\textbf{B} = 0$$ -->\n",
        "<!-- \n",
        "$$\\nabla\\times \\textbf{E} = -\\frac{\\partial\\textbf{B}}{\\partial t}$$\n",
        "$$\\nabla\\times \\textbf{H} = \\frac{\\partial\\textbf{D}}{\\partial t}$$ -->\n",
        "\n",
        "\\begin{equation*}\n",
        "\\Rightarrow\\textbf{B} = \\mu_0\\mu\\textbf{H}\n",
        "\\label{eq:maxwell_5} \\tag{5}\n",
        "\\end{equation*}\n",
        "\n",
        "\\begin{equation*}\n",
        "\\Rightarrow\\textbf{D} = \\epsilon_0\\epsilon\\textbf{E} + P^{NL}\n",
        "\\label{eq:maxwell_6} \\tag{6}\n",
        "\\end{equation*}\n",
        "\n",
        "<!-- $$\\Rightarrow\\textbf{B} = \\mu_0\\mu\\textbf{H}$$\n",
        "$$\\Rightarrow\\textbf{D} = \\epsilon_0\\epsilon\\textbf{E} + P^{NL}$$ -->\n",
        "\n",
        "$\\textbf{B}$ is the magnetic induction field, $\\textbf{D}$ is the electric displacement field, and $\\textbf{H}$ is the magnetic intensity field.\n",
        "\n",
        "To obtain the nonlinear optical wave equation, substitute $\\eqref{eq:maxwell_5}$ into $\\eqref{eq:maxwell_3}$ and take the curl of both the sides to obtain:\n",
        "\n",
        "\\begin{equation*}\n",
        "\\nabla\\textbf{E}_n-\\frac{\\epsilon_n\\mu_n}{c^2}\\frac{\\partial^2\\textbf{E}_n}{\\partial t^2} = \\frac{\\mu_n}{\\epsilon_0c^2}\\frac{\\partial^2\\textbf{P}_n^{NL}}{\\partial t^2}\n",
        "\\label{eq:NL_Wave_Equation} \\tag{7}\n",
        "\\end{equation*}\n",
        "\n",
        "Here, the subscript $n$ is used to denote each frequency component of the field."
      ]
    },
    {
      "cell_type": "markdown",
      "id": "d4ed4184",
      "metadata": {
        "id": "d4ed4184"
      },
      "source": [
        "### **2.4 Coupled-amplitude Equations**\n",
        "\n",
        "<insert pic of coupled-amplitude equations block and signals>\n",
        "    \n",
        " When $\\textbf{P}^{NL} = 0$, the solution to the nonlinear optical wave equation is a plane wave propagating in the $z$ direction. This wave is described by the following equation:\n",
        " \n",
        "\\begin{equation*}\n",
        "\\textbf{E}_n(z, t) = A_ne^{i(k_nz-\\omega_nt)} + c.c.\n",
        "\\label{eq:coupled_amp} \\tag{8}\n",
        "\\end{equation*}\n",
        "    \n",
        "When $\\textbf{P}^{NL}$ is nonzero and not very large, we can take $\\eqref{eq:coupled_amp}$ as the solution to the nonlinear optical wave equation with the nonlinear source included. We represent this nonlinear source as:\n",
        "   \n",
        "\\begin{equation*}\n",
        "\\textbf{P}_n(z, t) = P_ne^{-i\\omega_nt} + c.c.\n",
        "\\label{eq:NL_Source} \\tag{9}\n",
        "\\end{equation*}\n",
        "    \n",
        "Now we represent the pump, signal and idler terms for $P_n$:\n",
        "    \n",
        "\\begin{equation*}\n",
        "P_p = 3\\epsilon_0\\chi^{(3)}A_p^∗A_sA_ie^{i(k_sz+k_iz-k_pz)} + c.c.\n",
        "\\label{eq:NL_Source_pump} \\tag{10}\n",
        "\\end{equation*}\n",
        "    \n",
        "\\begin{equation*}\n",
        "P_s = 3\\epsilon_0\\chi^{(3)}A_p^2A_i^*e^{i(2k_pz - k_iz)} + c.c.\n",
        "\\label{eq:NL_Source_signal} \\tag{11}\n",
        "\\end{equation*}\n",
        "    \n",
        "\\begin{equation*}\n",
        "P_i = 3\\epsilon_0\\chi^{(3)}A_p^2A_s^*e^{i(2k_pz - k_sz)} + c.c.\n",
        "\\label{eq:NL_Source_idler} \\tag{12}\n",
        "\\end{equation*}\n",
        "    \n",
        "Substituting the terms into the nonlinear optical wave equation, we finally get,\n",
        "    \n",
        "\\begin{equation*}\n",
        "\\frac{d^2A_i}{dz^2}+2ik_i\\frac{dA_i}{dz} = \\frac{-3\\mu_i\\omega_i^2\\chi^{(3)}}{c^2}A_p^2A_s^*e^{i(2k_pz-k_sz-k_iz)}\n",
        "\\label{eq:NL_Source_final} \\tag{13}\n",
        "\\end{equation*}\n",
        "    \n",
        "Since the second derivative varies very slowly, we can drop the second derivative. This gives us:\n",
        "\\begin{equation*}\n",
        "\\left|\\frac{d^2A_i}{dz^2}\\right| << \\left|k_i\\frac{dA_i}{dz}\\right|\n",
        "\\label{eq:SVAA} \\tag{14}\n",
        "\\end{equation*}\n",
        "    \n",
        "Now we define the wave vector mismatch factor $\\delta k$:\n",
        "\\begin{equation*}\n",
        "\\Delta k \\equiv 2k_p - k_s - k_i\n",
        "\\label{eq:phase_mismatch} \\tag{15}\n",
        "\\end{equation*}\n",
        "    \n",
        "Making use of $\\eqref{eq:phase_mismatch}$ and $\\eqref{eq:SVAA}$ in $\\eqref{eq:NL_Source_final}$, we get the coupled-amplitude equation for the idler frequency:\n",
        "    \n",
        "\\begin{equation*}\n",
        "\\frac{dA_i}{dz} = \\frac{3i\\mu_i\\omega_i\\chi^{(3)}}{2n_ic}A_p^2A_s^*e^{i\\Delta kz}\n",
        "\\label{eq:coupled_idler} \\tag{16}\n",
        "\\end{equation*}\n",
        "    \n",
        "Similarly, we obtain the coupled-amplitude equations for the pump and signal frequencies:\n",
        "    \n",
        "\\begin{equation*}\n",
        "\\frac{dA_p}{dz} = \\frac{3i\\mu_p\\omega_p\\chi^{(3)}}{2n_pc}A_p^*A_sA_ie^{-i\\Delta kz}\n",
        "\\label{eq:coupled_pump} \\tag{17}\n",
        "\\end{equation*}\n",
        "    \n",
        "\\begin{equation*}\n",
        "\\frac{dA_s}{dz} = \\frac{3i\\mu_s\\omega_s\\chi^{(3)}}{2n_sc}A_p^2A_i^*e^{i\\Delta kz}\n",
        "\\label{eq:coupled_signal} \\tag{18}\n",
        "\\end{equation*}\n",
        "    \n",
        "The above three equations describe the FWM entirely."
      ]
    },
    {
      "cell_type": "markdown",
      "id": "de4626da",
      "metadata": {
        "id": "de4626da"
      },
      "source": [
        "### **2.5 Phase Matching**\n",
        "\n",
        "In order to solve the coupled-amplitude equations, we use the undepleted pump approximation. As a result of this, the pump and signal wave amplitudes, $A_p$ and $A_s$ remain constant.\n",
        "\n",
        "When we have the condition of perfect phase matching ($\\Delta k = 0$), the idler coupled-amplitude is solved with:\n",
        "\n",
        "\\begin{equation*}\n",
        "A_i = \\frac{3i\\mu_i\\omega_i\\chi^{(3)}}{2n_ic}A_p^2A_s^*L\n",
        "\\label{eq:idler_soln} \\tag{19}\n",
        "\\end{equation*}\n",
        "\n",
        "where $L$ is the length of the waveguide.\n",
        "\n",
        "When $\\Delta k \\neq 0$, the solution to the idler coupled-amplitude becomes:\n",
        "\n",
        "\\begin{equation*}\n",
        "A_i = \\frac{3i\\mu_i\\omega_i\\chi^{(3)}}{2n_ic}A_p^{*2}A_s\\int^{L}_{0\n",
        "} e^{i\\Delta kz} dz\n",
        "\\label{eq:idler_soln_mismatch} \\tag{20}\n",
        "\\end{equation*}\n",
        "\n",
        "\\begin{equation*}\n",
        "=\\frac{3i\\mu_i\\omega_i\\chi^{(3)}}{2n_ic}A_p^{*2}A_s\\left(\\frac{e^{i\\Delta kL} - 1}{i\\Delta k}\\right)\n",
        "\\label{eq:idler_soln_mismatch2} \\tag{21}\n",
        "\\end{equation*}\n",
        "\n",
        "Squaring the modulus of the phase-matching term:\n",
        "\\begin{equation*}\n",
        "\\DeclareMathOperator{\\sinc}{sinc}\n",
        "\\left|\\frac{e^{i\\Delta kL} - 1}{i\\Delta k}\\right|^2 = L^2\\frac{\\sin^2(\\Delta kL/2)}{(\\Delta kL/2)^2} \\equiv L^2\\sinc^2(\\Delta kL/2)\n",
        "\\label{eq:mod_phase_match} \\tag{22}\n",
        "\\end{equation*}\n",
        "\n",
        "We can define a length variable which depends on the phase matching. This \n",
        "\n",
        "\\begin{equation*}\n",
        "L_{coh} = \\frac{2}{\\Delta k}\n",
        "\\label{eq:L_coh} \\tag{23}\n",
        "\\end{equation*}"
      ]
    },
    {
      "cell_type": "code",
      "execution_count": null,
      "id": "337cc3ac",
      "metadata": {
        "id": "337cc3ac",
        "outputId": "8a590ade-30c8-4527-b5c6-495c2681b86a",
        "colab": {
          "base_uri": "https://localhost:8080/",
          "height": 300
        }
      },
      "outputs": [
        {
          "output_type": "execute_result",
          "data": {
            "text/plain": [
              "Text(0.5, 0, '$\\\\Delta kl/2$')"
            ]
          },
          "metadata": {},
          "execution_count": 2
        },
        {
          "output_type": "display_data",
          "data": {
            "text/plain": [
              "<Figure size 432x288 with 1 Axes>"
            ],
            "image/png": "[encoded data removed]"
          },
          "metadata": {
            "needs_background": "light"
          }
        }
      ],
      "source": [
        "# Plotting the sinc function\n",
        "x= np.linspace(-3*np.pi,3*np.pi,1000)\n",
        "func = np.sinc(x)**2\n",
        "plt.plot(x,func)\n",
        "plt.ylabel(\"$sinc^2(\\Delta kl/2) $\")\n",
        "plt.xlabel(\"$\\Delta kl/2$\")"
      ]
    },
    {
      "cell_type": "markdown",
      "id": "3b5bf65d",
      "metadata": {
        "id": "3b5bf65d"
      },
      "source": [
        "###  **2.6 Zero-index Materials**\n",
        "\n",
        "Classical optics induces the notion that the refractive index of materials is greater than or equal to one. A refractive index lower than one would result in strange phenomena like a phase velocity exceeding that of light.\n",
        "\n",
        "###  **2.7 Properties of Zero-index Materials**\n",
        "\n",
        "Zero-index materials imply a infinite phase velocity resulting in a phaseless propagation. We can confirm this by looking at \n",
        "\n",
        "\\begin{equation*}\n",
        "v_p = c/n\n",
        "\\label{eq:zero_index} \\tag{24}\n",
        "\\end{equation*}\n",
        "\n",
        "where $v_p$ is the phase velocity, $c$ is the speed of light and $n$ is the refractive index of the material.\n",
        "To overcome this violation, special relativity limits the signal velocity to the speed of light. The signal velocity is equal to the group velocity in most cases. So,\n",
        "\n",
        "\\begin{equation*}\n",
        "v_g = \\frac{c}{n + \\omega\\frac{\\partial n}{\\partial\\omega}}\n",
        "\\label{eq:sig_velo} \\tag{25}\n",
        "\\end{equation*}\n",
        "\n",
        "where $\\frac{\\partial n}{\\partial\\omega}$ describes the dispersion. When the dispersion is zero, then the group velocity equals the phase velocity. By logic, we deduce that zero-index mediums will have some dispersion. This also implies that the refractive index can be zero only at a single point without causing large losses. This length where the refractive index is allowed to be zero is called the *zero-index waevelength*.\n",
        "\n",
        "\n",
        "### **2.8  Phase Matching in Zero-index Materials**\n",
        "\n",
        "As deduced earlier, the phase matching condition is calculated by the difference between the  momenta of the input and output beams:\n",
        "\n",
        "\\begin{equation*}\n",
        "\\Delta k = 2k_p - k_s - k_i\n",
        "\\label{eq:phase_match} \\tag{26}\n",
        "\\end{equation*}\n",
        "\n",
        "Zero-index materials can eliminate the phase-matching contribution of any wave located at the zero-index wavelength and makes the phase-matching contribution independent of the wave orientation. "
      ]
    },
    {
      "cell_type": "markdown",
      "id": "87098991",
      "metadata": {
        "id": "87098991"
      },
      "source": [
        "# **3. Dirac-cone Metamaterials**\n",
        "\n",
        "### **3.1 Band structure of photonic crystals**\n",
        "\n",
        "Unlike solid-state crystals, photonic crystals have a periodic dielectric function $ε$ and periodic magnetic function $μ$ (where $ε$ and $μ$ are functions of $x,y,z$). A photonic band structure, which controls the operating wavelengths for a given mode of light, is induced due to such periodic dielectric.\n",
        "\n",
        "Maxwell's equations conclude the band structure of photonic crystals.\n",
        "\\begin{equation*}\n",
        "∇.[ε(r)E(r,t)] = 0\n",
        "\\end{equation*}\n",
        "\n",
        "\\begin{equation*}\n",
        "∇.[μ(r)H(r,t)] = 0\n",
        "\\end{equation*}\n",
        "\n",
        "\\begin{equation*}\n",
        "∇×E(r,t) = -μ_0μ(r){∂H(r,t)/∂t}\n",
        "\\end{equation*}\n",
        "\n",
        "\\begin{equation*}\n",
        "∇×H(r,t) = ε_0ε(r){∂E(r,t)/∂t}\n",
        "\\end{equation*}\n",
        "\n",
        "are the maxwell's equations, where r is the position vector.The time and position dependence of the fields $E(r, t)$ and $H(r, t)$ get further separated by expanding them into a set of harmonic modes $E(r)$ and $H(r)$ as Maxwell's equations are linear. The following expressions are obtained thus:\n",
        "\\begin{equation*}\n",
        "E(r, t) = E(r)e^{iωt}\n",
        "\\end{equation*}\n",
        "\n",
        "\\begin{equation*}\n",
        "H(r; t) = H(r)e^{iωt}\n",
        "\\end{equation*}\n",
        "\n",
        "On substituting these in Maxwell's equations scalar product equations are obtained:\n",
        "\\begin{equation*}\n",
        "∇.[ε(r)E(r)] = 0\n",
        "\\end{equation*}\n",
        "\n",
        "\\begin{equation*}\n",
        "∇.[μ(r)H(r)] = 0\n",
        "\\end{equation*}\n",
        "\n",
        "whereas the curl equations take the form:\n",
        "\\begin{equation*}\n",
        "∇×E(r) = iωμ_0μ(r){H(r)}\n",
        "\\end{equation*}\n",
        "\n",
        "\\begin{equation*}\n",
        "∇×H(r) = -iωε_0ε(r){E(r)}\n",
        "\\end{equation*}\n",
        "\n",
        "On dividing the second curl equation by $ε(r)$, then taking curl on both sides, followed by substituting first curl equation into second, the equation obtained is:\n",
        "\n",
        "\\begin{equation} {1/μ(r)}∇×{({1/ε(r)}∇×H(r))} = ε_0μ_0ω^2H(r) \\end{equation} \n",
        "\n",
        "This is the master equation from which the allowed modes $H(r)$ and it's corresponding permitted eigenfrequencies $ω$ can be found, for a given $μ(r)$ and $ε(r)$.\n",
        "<!-- \n",
        "<img src=\"3.1.png\" title = \"Photonic band Structure of the Glass\">  -->\n",
        "\n",
        "\n"
      ]
    },
    {
      "cell_type": "markdown",
      "id": "5081035b",
      "metadata": {
        "id": "5081035b"
      },
      "source": [
        "### **3.2 Dirac-cone Waveguides**\n",
        "\n",
        "In a periodic structure, the Brillouin belt is outlined as the set of points in the reciprocal\n",
        "lattice( k-space, as defied to a spatial lattice) which are closest to k = 0. In a 2D square lattice, three points of interest can be outlined within the Brillouin belt the $\\Gamma-point$, χ-point and M-point.\n",
        "\n",
        "The coordinates of these points given separation $a$ are:\n",
        "$$ \\Gamma-point → (0,0) $$\n",
        "\n",
        "$$ χ-point → ({π/a},0) $$\n",
        "\n",
        "$$ M-point → ({π/a},{π/a}) $$\n",
        "\n",
        "The $\\Gamma-point$ defines the center, χ-point defines the edge and M-point defines the corner of the unit cell.\n",
        "<!-- <img src=\"3.2.png\" >  -->\n",
        "\n",
        "Generally, utmost\n",
        "intriguing phenomenas of the photonic band structure of a material take place at these three\n",
        "points. \n",
        "\n",
        "The $\\Gamma-point$ being at (0,0) in momentum space, implies that n = 0 at this point due to the relation k = 2πn/λ. Hence a zero-index material must operate at this point in momentum space.\n",
        "\n",
        "Considering the example of an infinitely long plane of glass slab made up of silicon, perforated by a square array of holes: The structure has translational symmetry, though it is discrete than continuous.\n",
        "For perforated slab, the lowest order solutions are:\n",
        "> A quadrupole mode (two positive and two negative components of the field are arranged on the four sides of the unit cell) and \n",
        "\n",
        "> Two dipole modes (one positive and one negative component of the field on each side of its unit\n",
        "cell). \n",
        "\n",
        "<!-- <img src=\"3.3d.png\" >  -->\n",
        "\n",
        "It is observed thet the bands corresponding to the three modes intersect at the τ-point of the Brillouin zone. The intersection of the top and bottom bands in such manner is known as a Dirac cone.Achieving a Dirac cone in the band structure of a lattice enables the permittivity and permeability to simultaneously cross zero.\n",
        "\n",
        "<!-- <img src=\"3.3e.png\" >  -->\n",
        "\n",
        "When the above modes don't cross to form a Dirac cone, the permittivity\n",
        "and permeability don't concurrently cross zero. Rather, in the region of the bandgap between the two modes, a positive permittivity and a negative permeability or vice\n",
        "versa are attained.This results in an imaginary refractive index. While it seems that this would permit for a continuous real refractive index of zero in this region, this also results in very high losses and a deviating group velocity in\n",
        "the region of the bandgap. Reversely, in the case where these\n",
        "bands cross, $μ$ and $ε$ concurrently cross zero, resulting in a much lower imaginary refractive index and a finite group index.\n",
        "\n",
        "\n"
      ]
    },
    {
      "cell_type": "markdown",
      "id": "9005f788",
      "metadata": {
        "id": "9005f788"
      },
      "source": [
        "### **3.3 Fabrication and characterization**\n",
        "\n",
        "In order to fabricate the waveguides used in test:\n",
        "> A pattern is written using electronbeam\n",
        "lithography into a negative- tone resist. \n",
        "\n",
        ">This pattern is laterally applied to a silicon\n",
        "substrate using inductively- coupled plasma reactive ion drawing. \n",
        "\n",
        ">A photonic-band-gap material (PBG) is etched on either side of the waveguide. \n",
        "\n",
        "The PBG materials are not mandatory to shape the refractive indicator profile but they help to confine the light into the\n",
        "waveguide which minimizes losses. The PBG materials are also photonic crystals, and are designed to retain a bandgap at the zero-indicator wavelength of the zero-indicator waveguide. The waveguides are designed to work in the near-infrared (NIR), therefore, the bandgap of the PBG materials occurs in this region. Due to the bandgap, the PBG\n",
        "materials reflect light in this spectral region back into the waveguide. \n",
        "\n",
        ">The light coupling out\n",
        "of the zero-indicator waveguide does so at 90 degrees, thus the PBG material is placed at a distance from the waveguide corresponding to a 2π phase shift. \n",
        "\n",
        "This cancels out exiting\n",
        "radiation while maintaining an effective phase advance of zero. \n",
        "\n",
        ">To grease coupling into the waveguides with free-space\n",
        "shafts, polymer coupling pads with large cross-sectional areas are constructed on the ends of\n",
        "the waveguide. \n",
        "\n",
        "These polymer pads are used to couple into silicon waveguides, which also\n",
        "lead to the zero-indicator waveguides. \n",
        "\n",
        "While the waveguides used then are constructed from\n",
        "silicon, it must be noted that Dirac-cone zero-indicator materials can be constructed from anybase material. Then, we've used silicon for the simplicity of fabrication. Any\n",
        "material can however, including materials with a larger $χ^3$, be used in the fabrication process. The\n",
        "size of the device can also be gauged similar that the zero-indicator wavelength occurs wherever\n",
        "asked."
      ]
    },
    {
      "cell_type": "code",
      "execution_count": null,
      "id": "5fa6f9f7",
      "metadata": {
        "id": "5fa6f9f7"
      },
      "outputs": [],
      "source": [
        "# Data values used for the Refractive index, loss profile and impedence\n",
        "fac = 1e-9\n",
        "\n",
        "# loss\n",
        "lo = pd.read_csv('https://raw.githubusercontent.com/divyanshtiwari237/Photonics-Group7/main/data/loss.csv')\n",
        "lo_x = np.array(lo['x'])\n",
        "lo_x *= fac\n",
        "lo_y = np.array(lo['y'])\n",
        "\n",
        "#refractive index\n",
        "ri = pd.read_csv('https://raw.githubusercontent.com/divyanshtiwari237/Photonics-Group7/main/data/ri.csv')\n",
        "ri_x = np.array(ri['x'])\n",
        "ri_x *= fac\n",
        "ri_y = np.array(ri['y'])\n",
        "\n",
        "# permeability\n",
        "per = pd.read_csv(\"https://raw.githubusercontent.com/divyanshtiwari237/Photonics-Group7/main/data/permeability.csv\")\n",
        "per_x =  np.array(per['x'])\n",
        "per_x *= fac\n",
        "per_y =  np.array(per['y'])\n",
        "\n"
      ]
    },
    {
      "cell_type": "markdown",
      "id": "6393dd0b",
      "metadata": {
        "id": "6393dd0b"
      },
      "source": [
        "Refractive index profile of one of the waveguides used in the experiment, which has its zero-index wavelength at roughly 1600 nm. Obtained through a plot digitizer."
      ]
    },
    {
      "cell_type": "code",
      "execution_count": null,
      "id": "60b0172c",
      "metadata": {
        "id": "60b0172c",
        "outputId": "61dc9e87-ee85-4023-b82b-b25b8ba3c71b",
        "colab": {
          "base_uri": "https://localhost:8080/",
          "height": 297
        }
      },
      "outputs": [
        {
          "output_type": "execute_result",
          "data": {
            "text/plain": [
              "Text(0.5, 0, 'wavelength')"
            ]
          },
          "metadata": {},
          "execution_count": 4
        },
        {
          "output_type": "display_data",
          "data": {
            "text/plain": [
              "<Figure size 432x288 with 1 Axes>"
            ],
            "image/png": "[encoded data removed]"
          },
          "metadata": {
            "needs_background": "light"
          }
        }
      ],
      "source": [
        "# plotting refractive index\n",
        "plt.plot(ri_x,ri_y)\n",
        "plt.ylabel(\"effective index $n_{eff}$\")\n",
        "plt.xlabel(\"wavelength\")"
      ]
    },
    {
      "cell_type": "markdown",
      "id": "7cd54ad9",
      "metadata": {
        "id": "7cd54ad9"
      },
      "source": [
        " Loss profile of a similar waveguide in dB/µm. The loss peaks shortly below the zero-index wavelength.Obtained through a plot digitizer."
      ]
    },
    {
      "cell_type": "code",
      "execution_count": null,
      "id": "df39dcde",
      "metadata": {
        "id": "df39dcde",
        "outputId": "22814955-9bb2-44af-d283-971369efa619",
        "colab": {
          "base_uri": "https://localhost:8080/",
          "height": 297
        }
      },
      "outputs": [
        {
          "output_type": "execute_result",
          "data": {
            "text/plain": [
              "Text(0.5, 0, 'wavelength')"
            ]
          },
          "metadata": {},
          "execution_count": 5
        },
        {
          "output_type": "display_data",
          "data": {
            "text/plain": [
              "<Figure size 432x288 with 1 Axes>"
            ],
            "image/png": "[encoded data removed]"
          },
          "metadata": {
            "needs_background": "light"
          }
        }
      ],
      "source": [
        "# plotting loss\n",
        "plt.plot(lo_x,lo_y)\n",
        "plt.ylabel(\"loss(dB/$\\mu$m)\")\n",
        "plt.xlabel(\"wavelength\")"
      ]
    },
    {
      "cell_type": "markdown",
      "id": "bad58b1c",
      "metadata": {
        "id": "bad58b1c"
      },
      "source": [
        "Simulated µ/n, a quantity proportional to the impedance, plotted as a function of wavelength.Obtained through a plot digitizer."
      ]
    },
    {
      "cell_type": "code",
      "execution_count": null,
      "id": "e7129f7b",
      "metadata": {
        "id": "e7129f7b",
        "outputId": "77684427-e20f-49cc-e4db-7c34e85cacc9",
        "colab": {
          "base_uri": "https://localhost:8080/",
          "height": 297
        }
      },
      "outputs": [
        {
          "output_type": "execute_result",
          "data": {
            "text/plain": [
              "Text(0.5, 0, 'wavelength')"
            ]
          },
          "metadata": {},
          "execution_count": 6
        },
        {
          "output_type": "display_data",
          "data": {
            "text/plain": [
              "<Figure size 432x288 with 1 Axes>"
            ],
            "image/png": "[encoded data removed]"
          },
          "metadata": {
            "needs_background": "light"
          }
        }
      ],
      "source": [
        "# plotting impedence\n",
        "plt.plot(per_x,per_y)\n",
        "plt.ylabel(\"$\\mu/m$\")\n",
        "plt.xlabel(\"wavelength\")"
      ]
    },
    {
      "cell_type": "markdown",
      "id": "5404c4ff",
      "metadata": {
        "id": "5404c4ff"
      },
      "source": [
        "# **4. Model for phase matching in an FWM process**\n",
        "\n",
        "### **4.1 Phase matching with co-propagating pump and signal beams**\n",
        "\n",
        "The authors proceed to investigate the generation of a forward and backward propagating idler wave when using co-propagating pump and signal beams (forward and backward is with repect to the pump beam). In the lossless forward propagating case, the derivation is identical to the derivation done earlier for the coupled amplitude equations in FWM. However, for backward propagation, the idler beam possesses a negative momentum $-k_i$ as opposed to $k_i$ for forward propagation. Consequently, the electric field is written as: \\begin{equation} E_i(z,t) = A_ie^{i(-k_iz-\\omega_it)} + c.c. \\end{equation} The subsequent derivation is otherwise identical and the ultimate result is nearly identical to the one previously obtained: $$|A_i|^2 = \\frac{9\\mu_i^2\\chi^{(3)^2}\\omega_i^2}{4\\eta_i^2c^2}|A_p|^4|A_s|^2L^2sinc^2(\\Delta k_bL/2)$$\n",
        "<img src=\"https://github.com/divyanshtiwari237/Photonics-Group7/blob/main/4.1.png?raw=1\" > \n",
        "Note that the idler wave is generated in both directions. While the final result appears identical, the critically important difference lies in the phase matching condition $\\Delta k$. As opposed to a forward-propagating idler wave, where the phase matching condition is given by $\\Delta k_f = 2k_p - k_s - k_i$, the backward-propagating idler wave possesses the phase-matching condition $\\Delta k_b = 2k_p - k_s + k_i$. Now, in the case where the idler wave is located at the zero-index wavelength, it has a vanishing momentum $k_i = 0$. Now, $\\Delta k_f = \\Delta k_b = 2k_p - k_s$. This implies that the backward propagating idler is just as well phase matched as the forward propagating idler when the idler is localized at the wavelength where $n=0$. Moreover, if we now have $k_s = 2k_p$, (which can be achieved in any low-dispersion zero-index medium), there will be simultaneous phase matching of the forward and backward propagating idler waves. Obviously, this is not possible in standard waveguides, and the coherence wavelength for a backward propagating idler is much lesser than that in zero-index media. We add a loss term to account for amplitude depletion as the waves propagate through the waveguide. For a forward-propagating idler wave, these new coupled-amplitude equations take the form:\n",
        "\n",
        "\n",
        "### **4.2 Co-propagating pump and signal beams in lossy media**\n",
        "\n",
        "To adequately analyze experimental results, it is imperative to take losses into account. We add a loss term to account for amplitude depletion as the waves propagate through the waveguide. For a forward-propagating idler wave, these new coupled-amplitude equations take the form:\n",
        "$$\\frac{dA_p}{dz}=\\frac{3i\\mu_p\\chi^{(3)}\\omega_p}{2n_pc}A_p^*A_sA_ie^{-i\\Delta k_fz} - \\alpha_pA_p$$\n",
        "\n",
        "$$\\frac{dA_s}{dz}=\\frac{3i\\mu_s\\chi^{(3)}\\omega_s}{2n_sc}A_p^2A_i^*e^{i\\Delta k_fz} - \\alpha_sA_s$$\n",
        "\n",
        "$$\\frac{dA_i}{dz}=\\frac{3i\\mu_i\\chi^{(3)}\\omega_i}{2n_ic}A_p^2A_s^*e^{i\\Delta k_fz} - \\alpha_iA_i$$\n",
        "\n",
        "Here, $\\alpha$ is the propagation loss, which dictates how rapidly a wave decreases in amplitude. As before, $\\Delta k_f = 2k_p - k_s - k_i$. Obviously, we cannot apply the undepleted pump approximation. This means that there is no closed analytic solution, and that the coupled amplitude equations must be solved numerically. However, we are here able to use a relaxed version of the undepleted pump approximation, which we name the *nonlinearly undepleted pump approximation*. This approximation states that while the amplitude of the pump and signal waves are not constant, they are only ever subject to radiative losses. In other words, this approximation states that the fraction of the pump and signal waves converted into the idler wave and vice versa is very small, and may be neglected. The approximation can be justified in experiments, as the generated idler is always approximately four orders of magnitude less powerful than the pump beam. Consequently, the coupled amplitude equations reduce to the following form:\n",
        "\n",
        "$$\\frac{dA_p}{dz} = -\\alpha_pA_p$$\n",
        "\n",
        "$$\\frac{dA_s}{dz} = -\\alpha_sA_s$$\n",
        "\n",
        "$$\\frac{dA_i}{dz}=\\frac{3i\\mu_i\\chi^{(3)}\\omega_i}{2n_ic}A_p^2A_s^*e^{i\\Delta k_fz} - \\alpha_iA_i$$\n",
        "\n",
        "Unlike the previous set, these equations can be solved analytically. The first two can be solved trivally to obtain:\n",
        "    \n",
        "$$A_p(z) = A_{p0}e^{-\\alpha_pz}$$\n",
        "\n",
        "$$A_s(z) = A_{s0}e^{-\\alpha_sz}$$\n",
        "\n",
        "where $A_{p0}$ and $A_{s0}$ are the initial amplitudes of the pump and signal waves, obtained by finding the integration constants by using the initial conditions $A_p(0) = A_{p0} and A_s(0) = A_{s0}$. We substitute this into the differential equation for $A_i$ to obtain:\n",
        "\n",
        "$$\\frac{dA_i}{dz}=\\frac{3i\\mu_i\\chi^{(3)}\\omega_i}{2n_ic}A_{p0}^2A_{s0}^*e^{i\\Delta k_fz}e^{-\\Delta\\alpha z} - \\alpha_iA_i$$\n",
        "where we have defined $\\Delta\\alpha = 2\\alpha_p + \\alpha_s$. This is a single linear differential equation, which can be solved. For brevity, we group the terms independent of z under the variable:\n",
        "\n",
        "$$\\Omega = \\frac{3\\mu_i\\chi^{(3)}\\omega_i}{2n_ic}A_{p0}^2A_{s0}^*$$\n",
        "to get:\n",
        "    \n",
        "$$\\frac{dA_i}{dz} + \\alpha_iA_i = i\\Omega e^{(i\\Delta k_f - \\Delta\\alpha)z}$$\n",
        "\n",
        "which can be solved to obtain:\n",
        "\n",
        "$$A_ie^{\\alpha_iz} = \\frac{i\\Omega e^{(i\\Delta k_f - \\Delta\\alpha + \\alpha_i)z}}{i\\Delta k_f - \\Delta\\alpha +\\alpha_i} + C$$\n",
        "\n",
        "where C is the integration constant. We use the initial condition that $A_i(0) = 0$ to obtain:\n",
        "\n",
        "$$C = \\frac{-i\\Omega}{i\\Delta k_f - \\Delta\\alpha + \\alpha_i}$$\n",
        "Consequently, we obtain the final expression for the idler wave amplitude as a function of $z$:\n",
        "\n",
        "$$A_i(z) = \\frac{i\\Omega(e^{(i\\Delta k_f-\\Delta\\alpha)z} - e^{-\\alpha_iz})}{i\\Delta k_f - \\Delta\\alpha +\\alpha_i}$$\n",
        "Resubstituting for $\\Omega$:\n",
        "\n",
        "$$A_i(z) = \\frac{3i\\mu_i\\chi^{(3)}\\omega_i}{2n_ic}A_{p0}^2A_{s0}^*\\frac{(e^{(i\\Delta k_f-\\Delta\\alpha)z} - e^{-\\alpha_iz})}{i\\Delta k_f - \\Delta\\alpha +\\alpha_i}$$\n"
      ]
    },
    {
      "cell_type": "code",
      "execution_count": null,
      "id": "7fa9a806",
      "metadata": {
        "id": "7fa9a806"
      },
      "outputs": [],
      "source": [
        "# Generating Idler wave spectra for  the forward and backward direction in a FWM process with co-propagating pump and signal"
      ]
    },
    {
      "cell_type": "code",
      "execution_count": null,
      "id": "bc6f19cf",
      "metadata": {
        "id": "bc6f19cf"
      },
      "outputs": [],
      "source": [
        "# initializing values of constants used\n",
        "pump_wl = 1.600e-6\n",
        "signal_wl = 1.580e-6\n",
        "c0 = 299792458\n",
        "deltaOmega = 2*np.pi*c0*((pump_wl - signal_wl)/(signal_wl*pump_wl))\n",
        "lambda_p_number = 1500\n",
        "lambda_start = 1.562e-6\n",
        "lambda_end = 1.59888e-6\n",
        "L = 1.48e-5\n",
        "n_SI = 3.4757\n",
        "eps_zero = 8.854e-12\n",
        "X3 = 2.45e-19"
      ]
    },
    {
      "cell_type": "code",
      "execution_count": null,
      "id": "f5aa2098",
      "metadata": {
        "id": "f5aa2098"
      },
      "outputs": [],
      "source": [
        "# Generating wavelenghts based off of the pump\n",
        "lambda_p = np.linspace(lambda_start,lambda_end, lambda_p_number)\n",
        "lambda_s = np.divide((2*np.pi*c0*lambda_p),(2*np.pi*c0 + deltaOmega*lambda_p))\n",
        "lambda_i = np.divide((2*np.pi*c0*lambda_p),(2*np.pi*c0 - deltaOmega*lambda_p))\n",
        "\n",
        "#interpolating the data to fit the new wavelength values\n",
        "\n",
        "#refractive index\n",
        "n_fun = interp1d(ri_x, ri_y,fill_value = \"extrapolate\")\n",
        "n_p = n_fun(lambda_p)\n",
        "n_s =n_fun(lambda_s)\n",
        "n_i = n_fun(lambda_i)\n",
        "\n",
        "#loss\n",
        "fac = 1e6*math.log(10)/20\n",
        "loss_fun = interp1d(lo_x,lo_y,kind =\"linear\",fill_value = \"extrapolate\")\n",
        "loss_p = loss_fun(lambda_p)*fac\n",
        "loss_s = loss_fun(lambda_s)*fac\n",
        "loss_i = loss_fun(lambda_i)*fac\n",
        "\n",
        "#permeability\n",
        "per_fun = interp1d(per_x,per_y,fill_value = \"extrapolate\")\n",
        "per_i = per_fun(lambda_i)"
      ]
    },
    {
      "cell_type": "code",
      "execution_count": null,
      "id": "04785021",
      "metadata": {
        "scrolled": true,
        "id": "04785021",
        "outputId": "f58146fe-abd1-48c8-9db0-b7dbbd5ea084",
        "colab": {
          "base_uri": "https://localhost:8080/",
          "height": 297
        }
      },
      "outputs": [
        {
          "output_type": "execute_result",
          "data": {
            "text/plain": [
              "Text(0, 0.5, '$ A_p  $')"
            ]
          },
          "metadata": {},
          "execution_count": 9
        },
        {
          "output_type": "display_data",
          "data": {
            "text/plain": [
              "<Figure size 432x288 with 1 Axes>"
            ],
            "image/png": "[encoded data removed]"
          },
          "metadata": {
            "needs_background": "light"
          }
        }
      ],
      "source": [
        "# Schematic demonstrating the swap in the frame of reference in the waveguide.\n",
        "z = np.linspace(0,L,lambda_p_number)\n",
        "a_p = loss_fun(pump_wl)\n",
        "fac = 1e6*math.log(10)/20\n",
        "a_p *=fac\n",
        "a_p\n",
        "q = np.exp(-a_p*z)\n",
        "\n",
        "plt.plot(z,q)\n",
        "plt.fill_between(z, 0, q, color='grey', alpha=.2)\n",
        "plt.xlabel(\"z = 0 to z = L\")\n",
        "plt.ylabel(\"$ A_p  $\")\n"
      ]
    },
    {
      "cell_type": "code",
      "execution_count": null,
      "id": "b8ad18b5",
      "metadata": {
        "id": "b8ad18b5",
        "outputId": "ad42fc17-6b30-43c2-870f-6927956306cc",
        "colab": {
          "base_uri": "https://localhost:8080/",
          "height": 297
        }
      },
      "outputs": [
        {
          "output_type": "execute_result",
          "data": {
            "text/plain": [
              "Text(0, 0.5, '$ A_p e^{-(a_p L)}  $')"
            ]
          },
          "metadata": {},
          "execution_count": 10
        },
        {
          "output_type": "display_data",
          "data": {
            "text/plain": [
              "<Figure size 432x288 with 1 Axes>"
            ],
            "image/png": "[encoded data removed]"
          },
          "metadata": {
            "needs_background": "light"
          }
        }
      ],
      "source": [
        "q_1 = np.exp(-a_p*L)*np.exp(+a_p*z)\n",
        "plt.plot(z,q_1)\n",
        "plt.fill_between(z, 0, q_1, color='grey', alpha=.2)\n",
        "plt.xlabel(\"z = 0 to z = L\")\n",
        "plt.ylabel(\"$ A_p e^{-(a_p L)}  $\")"
      ]
    },
    {
      "cell_type": "markdown",
      "id": "e69be541",
      "metadata": {
        "id": "e69be541"
      },
      "source": [
        "We can follow an analogous procedure to obtain the expression for a backward propagating idler wave:\n",
        "\n",
        "$$A_i(z) = \\frac{3i\\mu_i\\chi^{(3)}\\omega_i}{2n_ic}A_{p0}^2A_{s0}^*e^{-(2\\alpha_p + \\alpha_s)L}\\frac{(e^{(\\Delta\\alpha -i\\Delta k_b)z} - e^{-\\alpha_iz})}{\\Delta\\alpha -i\\Delta k_b +\\alpha_i}$$\n",
        "\n",
        "wherein the idler wave begins building at z = 0, and is detected at z = L. However, as the idler wave is counter-propagating against the pump and signal, it is instead arranged for the pump and signal waves to begin at z = L. This effectively inverts the frame of reference of the waveguide. To symbolically represent a wave that begins at z = L, say the pump wave, we cause the wave to begin at z = 0 with an amplitude $A_pe^{-\\alpha_pL}$."
      ]
    },
    {
      "cell_type": "markdown",
      "id": "62ac0be8",
      "metadata": {
        "id": "62ac0be8"
      },
      "source": [
        "While our theoretical prediction based purely on phase-matching constraints states that\n",
        "the forward-propagating idler wave should have equal magnitudes at every wavelength. However, our results indicate that this is not the case. This discrepancy can be explained by\n",
        "incorporating a dispersive loss and impedance into the model."
      ]
    },
    {
      "cell_type": "code",
      "execution_count": null,
      "id": "11bf1d99",
      "metadata": {
        "id": "11bf1d99"
      },
      "outputs": [],
      "source": [
        "# wave vectors\n",
        "k_p = 2*np.pi*np.divide(n_p,lambda_p)\n",
        "k_s = 2*np.pi*np.divide(n_s,lambda_s)\n",
        "k_i = 2*np.pi*np.divide(n_i,lambda_i)\n",
        "\n",
        "# Delta K and Delta loss values\n",
        "delta_k_fw = 2*k_p -  k_s - k_i\n",
        "delta_k_bw = 2*k_p -  k_s + k_i\n",
        "delta_a = 2*loss_p + loss_s\n"
      ]
    },
    {
      "cell_type": "code",
      "execution_count": null,
      "id": "f1240ef9",
      "metadata": {
        "id": "f1240ef9"
      },
      "outputs": [],
      "source": [
        "# Generating Amplitudes \n",
        "w_i = np.divide(2*np.pi*c0,lambda_i)\n",
        "Omega_fw = ((3.0/2)*X3) * np.divide(np.multiply(w_i,per_i),c0)\n",
        "Omega_bw = ((3.0/2)*X3) * np.divide(np.multiply(w_i,np.multiply(np.exp(-(2*loss_p +loss_s)*L),per_i)),c0)\n",
        "\n",
        "# Forward Amplitudes\n",
        "idler_amp_fw = (1j * np.multiply(Omega_fw,np.divide(np.exp((1j*delta_k_fw - delta_a)*L) - np.exp(-loss_i*L),1j*delta_k_fw + loss_i - delta_a)))\n",
        "intensity_fw = (2*n_SI*eps_zero * c0 *abs(np.multiply(idler_amp_fw,idler_amp_fw)))\n",
        "\n",
        "#Backwards Amplitudes\n",
        "idler_amp_bw = 1j * np.multiply(Omega_bw,np.divide(np.exp((-1j*delta_k_bw + delta_a)*L) - np.exp(-loss_i*L),-1j*delta_k_bw + loss_i + delta_a))\n",
        "intensity_bw = 2*n_SI*eps_zero * c0 *abs(np.multiply(idler_amp_bw,idler_amp_bw))\n"
      ]
    },
    {
      "cell_type": "code",
      "execution_count": null,
      "id": "c9102dc8",
      "metadata": {
        "id": "c9102dc8"
      },
      "outputs": [],
      "source": [
        "#Refactoring\n",
        "fac = 1e9\n",
        "lambda_i *=fac"
      ]
    },
    {
      "cell_type": "code",
      "execution_count": null,
      "id": "bad5b80c",
      "metadata": {
        "scrolled": true,
        "id": "bad5b80c",
        "outputId": "e0eeacee-4f5d-4d50-a038-08bda7da78b8",
        "colab": {
          "base_uri": "https://localhost:8080/",
          "height": 297
        }
      },
      "outputs": [
        {
          "output_type": "execute_result",
          "data": {
            "text/plain": [
              "Text(0.5, 0, 'wavelength(nm)')"
            ]
          },
          "metadata": {},
          "execution_count": 14
        },
        {
          "output_type": "display_data",
          "data": {
            "text/plain": [
              "<Figure size 432x288 with 1 Axes>"
            ],
            "image/png": "[encoded data removed]"
          },
          "metadata": {
            "needs_background": "light"
          }
        }
      ],
      "source": [
        "# plot of the backwards propagating idler wave\n",
        "intensity_bw = savgol_filter(intensity_bw, 999, 3)\n",
        "intensity_bw =  np.divide(intensity_bw, np.max(intensity_bw))\n",
        "plt.plot(lambda_i,intensity_bw)\n",
        "plt.xlim(left=1580)  \n",
        "plt.xlim(right=1620) \n",
        "plt.ylabel(\"Backward idler power (a.u.)\")\n",
        "plt.xlabel(\"wavelength(nm)\")"
      ]
    },
    {
      "cell_type": "code",
      "execution_count": null,
      "id": "f6f564fb",
      "metadata": {
        "id": "f6f564fb",
        "outputId": "f4ce6cbe-e520-4e2e-f809-a7d476985bc8",
        "colab": {
          "base_uri": "https://localhost:8080/",
          "height": 297
        }
      },
      "outputs": [
        {
          "output_type": "execute_result",
          "data": {
            "text/plain": [
              "Text(0.5, 0, 'wavelength(nm)')"
            ]
          },
          "metadata": {},
          "execution_count": 15
        },
        {
          "output_type": "display_data",
          "data": {
            "text/plain": [
              "<Figure size 432x288 with 1 Axes>"
            ],
            "image/png": "[encoded data removed]"
          },
          "metadata": {
            "needs_background": "light"
          }
        }
      ],
      "source": [
        "# plot of the forward porpagating idler wave \n",
        "intensity_fw = savgol_filter(intensity_fw, 999, 6)\n",
        "intensity_fw =  np.divide(intensity_fw, np.max(intensity_fw))\n",
        "intensity_fw = savgol_filter(intensity_fw, 999, 5)\n",
        "intensity_fw =  np.divide(intensity_fw, np.max(intensity_fw))\n",
        "plt.plot(lambda_i,intensity_fw)\n",
        "plt.xlim(left=1580)  \n",
        "plt.xlim(right=1620)\n",
        "plt.ylabel(\"Forward idler power (a.u.)\")\n",
        "plt.xlabel(\"wavelength(nm)\")"
      ]
    },
    {
      "cell_type": "markdown",
      "id": "c1d16815",
      "metadata": {
        "id": "c1d16815"
      },
      "source": [
        "In summary, the fact that the simultaneously generated forward- and backward-propagating\n",
        "idler peaks respond so differently to passing through the zero-index wavelength is overall\n",
        "strong proof that the idler wave both shows directional independence, and that each direction is subject to its own phase-matching requirement."
      ]
    },
    {
      "cell_type": "markdown",
      "id": "dbcef0fa",
      "metadata": {
        "id": "dbcef0fa"
      },
      "source": [
        "We isolate the\n",
        "effects of these two quantities on the output idler power by superimposing two curves over\n",
        "the measurement results: a constant permeability and therefore a constant impedance with\n",
        "a variable loss ; and a variable permeability and a constant loss.\n",
        "Plotting these two curves in this manner shows that when the impedance is held constant,\n",
        "the forward-propagating idler is attenuated for wavelengths longer than 1600 nm.When the loss is held constant, the forward-propagating idler is attenuated for wavelengths shorter\n",
        "than 1600 nm, and the resulting spectrum appears almost identical to the shape of the\n",
        "impedance profile"
      ]
    },
    {
      "cell_type": "code",
      "execution_count": null,
      "id": "a73e3274",
      "metadata": {
        "id": "a73e3274",
        "outputId": "46ca292c-b12b-4224-d7e8-a3ca8793a31f",
        "colab": {
          "base_uri": "https://localhost:8080/",
          "height": 297
        }
      },
      "outputs": [
        {
          "output_type": "execute_result",
          "data": {
            "text/plain": [
              "Text(0.5, 0, 'wavelength(nm)')"
            ]
          },
          "metadata": {},
          "execution_count": 16
        },
        {
          "output_type": "display_data",
          "data": {
            "text/plain": [
              "<Figure size 432x288 with 1 Axes>"
            ],
            "image/png": "[encoded data removed]"
          },
          "metadata": {
            "needs_background": "light"
          }
        }
      ],
      "source": [
        "#Wavelength invariable impedence\n",
        "Omega_fw = ((3.0/2)*X3) * np.divide(np.multiply(w_i,1),c0)\n",
        "idler_amp_fw2 = (1j * np.multiply(Omega_fw,np.divide(np.exp((1j*delta_k_fw - delta_a)*L) - np.exp(-loss_i*L),1j*delta_k_fw + loss_i - delta_a)))\n",
        "intensity_fw2 = (2*n_SI*eps_zero * c0 *abs(np.multiply(idler_amp_fw2,idler_amp_fw2)))\n",
        "intensity_fw2 = savgol_filter(intensity_fw2, 999, 6)\n",
        "intensity_fw2 =  np.divide(intensity_fw2, np.max(intensity_fw2))\n",
        "intensity_fw2 = savgol_filter(intensity_fw2, 999 ,5)\n",
        "intensity_fw2 =  np.divide(intensity_fw2, np.max(intensity_fw2))\n",
        "\n",
        "plt.plot(lambda_i,intensity_fw2)\n",
        "plt.xlim(left=1580)  \n",
        "plt.xlim(right=1620)\n",
        "plt.ylabel(\"Forward idler power (a.u.)\")\n",
        "plt.xlabel(\"wavelength(nm)\")"
      ]
    },
    {
      "cell_type": "code",
      "execution_count": null,
      "id": "86060173",
      "metadata": {
        "scrolled": true,
        "id": "86060173",
        "outputId": "580fde06-1cf3-4809-c8be-5eaace66d3b1",
        "colab": {
          "base_uri": "https://localhost:8080/",
          "height": 297
        }
      },
      "outputs": [
        {
          "output_type": "execute_result",
          "data": {
            "text/plain": [
              "Text(0.5, 0, 'wavelength(nm)')"
            ]
          },
          "metadata": {},
          "execution_count": 17
        },
        {
          "output_type": "display_data",
          "data": {
            "text/plain": [
              "<Figure size 432x288 with 1 Axes>"
            ],
            "image/png": "[encoded data removed]"
          },
          "metadata": {
            "needs_background": "light"
          }
        }
      ],
      "source": [
        "# Variation in the predictive model for Forward propagating idler wave\n",
        "# Wavelength invariable loss\n",
        "#loss\n",
        "Omega_fw = ((3.0/2)*X3) * np.divide(np.multiply(w_i,per_i),c0)\n",
        "fac = 1e6*math.log(10)/20\n",
        "loss_fun = interp1d(lo_x,lo_y,kind =\"linear\",fill_value = \"extrapolate\")\n",
        "loss_p = 0.5*fac\n",
        "loss_s = 0.5*fac\n",
        "loss_i = 0.5*fac\n",
        "delta_a = 2*loss_p + loss_s\n",
        "\n",
        "idler_amp_fw1 = (1j * np.multiply(Omega_fw,np.divide(np.exp((1j*delta_k_fw - delta_a)*L) - np.exp(-loss_i*L),1j*delta_k_fw + loss_i - delta_a)))\n",
        "intensity_fw1 = (2*n_SI*eps_zero * c0 *abs(np.multiply(idler_amp_fw1,idler_amp_fw1)))\n",
        "intensity_fw1 =  np.divide(intensity_fw1, np.max(intensity_fw1))\n",
        "intensity_fw1 = savgol_filter(intensity_fw1, 999, 6)\n",
        "intensity_fw1 =  np.divide(intensity_fw1, np.max(intensity_fw1))\n",
        "intensity_fw1 = savgol_filter(intensity_fw1, 999, 5)\n",
        "intensity_fw1 =  np.divide(intensity_fw1, np.max(intensity_fw1))\n",
        "\n",
        "plt.plot(lambda_i,intensity_fw1)\n",
        "plt.xlim(left=1580)  \n",
        "plt.xlim(right=1620)\n",
        "plt.ylabel(\"Forward idler power (a.u.)\")\n",
        "plt.xlabel(\"wavelength(nm)\")\n"
      ]
    },
    {
      "cell_type": "markdown",
      "id": "8c04daf4",
      "metadata": {
        "id": "8c04daf4"
      },
      "source": [
        "### **4.3 Phase matching with counter-propagating pump and signal beams**\n",
        "The expressions for the counter-propagating case can be found by inverting the sign of the signal wave's momentum.\n",
        "The plane wave equation for the signal beam now becomes \n",
        "$$ E_s(z,t) = A_s e^{i(-k_s z -w_s t)}  +cc $$\n",
        "This changes very litttle in the derivation of of idler amplitude equations. However having a counter propagating signal also changes the phase matching conditions.After performing in the derivation, we arrive with the following expressions:\n",
        "$$|A_i|^2 = \\frac{9\\mu_i^2\\chi^{(3)^2}\\omega_i^2}{4\\eta_i^2c^2}|A_p|^4|A_s|^2L^2sinc^2(\\Delta k_{b/f}L/2)$$\n",
        "$$ \\Delta k_f = 2k_p + k_s-k_i   $$\n",
        "$$ \\Delta k_b = 2k_p + k_s+ k_i   $$\n",
        "We can plot the coherence length for these counter propagating beams using the refractive index data of the zero index waveguide.The coherence length calculations for counter-propagating beams reveal that for a forward.propagating idler wave, the FWM interaction will remain coherent as long as the signal beam\n",
        "is located at the zero-index wavelength. On the other hand, a backward-propagating idler\n",
        "wave will remain coherent as long as the pump beam is located at the zero-index wavelength.\n",
        "This is similar to the result for a backward-propagating idler wave with co-propagating pump\n",
        "and signal beams, where the interaction remained coherent as long as the idler wave was\n",
        "located at the zero-index wavelength. This is because in all of these cases, eliminating the\n",
        "momentum contribution of those waves restores the phase-matching condition.\n"
      ]
    },
    {
      "cell_type": "markdown",
      "id": "60ecb37f",
      "metadata": {
        "id": "60ecb37f"
      },
      "source": [
        "### **4.4 Counter-propagating pump and signal beams in lossy media**\n",
        "While the calculated coherence lengths for a FWM interaction with counter-propagating\n",
        "pump and signal beams provide us valuable insight, their use is again limited when treating\n",
        "the case of a lossy medium.In an interaction with co-propagating pump and signal beams, the pump and signal waves have\n",
        "the benefit of possessing a large power overlap between them. However, when the beams\n",
        "are counter-propagating, the pump and signal waves will both be the most powerful on their\n",
        "respective ends of the waveguide, and gradually deplete as they move towards the opposing\n",
        "facets. This means that the strongest portion of the pump wave intersects with the weakest\n",
        "portion of the signal wave, and vice versa. As a result, the power overlap is not nearly as\n",
        "large, and whatever overlap that is present is greatly dictated by the loss of the waveguide.\n",
        "Therefore, it is critical even more so in the case of counter-propagating pump and signal\n",
        "beams to develop a model that takes radiative losses into account. The  method to derive\n",
        "a model is largely identical to the method used for co-propagating pump and signal beams.\n",
        "For a forward-propagating idler wave, we have the coupled-amplitude equations\n",
        "\n",
        "$$  \\frac{dA_p}{dz} = -\\alpha_p A_p, $$\n",
        "\n",
        "$$  \\frac{dA_s}{dz} = \\alpha_p A_s, $$\n",
        "\n",
        "$$  \\frac{dA_i}{dz} = \\frac{3i\\mu_i\\chi_i^{(3)}\\omega_i}{2n_ic} A_p^2A_s^{*} e^{i\\Delta k_fz}  -\\alpha_i A_i, $$\n",
        "\n",
        "Here, we have defined the waveguide as entering at z = L and exiting at z =0. Using initial conditions, we find that the pump and signal amplitutdes are:\n",
        "\n",
        "$$  A_p = A_{po}e^{-\\alpha_p z}, $$\n",
        "\n",
        "$$  A_s = A_{so}e^{-\\alpha_sL}e^{-\\alpha_sz}, $$\n",
        "\n",
        "When these expressions are included in the differential equation for the idler wave,  we can solve and obtain the final expression for the forward-propagating idler wave amplitude as a function of z:\n",
        "\n",
        "$$ A_i(z) = \\frac{3i\\mu_i\\chi_i^{(3)}\\omega_i}{2n_ic} A_{po}^2A_{so}^{*}e^{-\\alpha_s L} (\\frac{e^{(i\\Delta k_f -\\Delta \\alpha)z} - e^{-\\alpha_iz} }{i \\Delta k_f - \\Delta \\alpha + \\alpha_i})  $$\n",
        "\n",
        "with \n",
        "$$ \\Delta \\alpha = 2\\alpha_p - \\alpha_s$$\n",
        "\n",
        "In the case of a backward-propagating idler wave, we again use our method of inverting the waveguide\n",
        "such that the idler wave exits the waveguide at z = L. In this case, the coupled-amplitude\n",
        "equations take the form:\n",
        "\n",
        "$$  \\frac{dA_p}{dz} = \\alpha_p A_p, $$\n",
        "\n",
        "$$  \\frac{dA_s}{dz} = -\\alpha_p A_s, $$\n",
        "\n",
        "$$  \\frac{dA_i}{dz} = \\frac{3i\\mu_i\\chi_i^{(3)}\\omega_i}{2n_ic} A_p^2A_s^{*} e^{i\\Delta k_bz}  -\\alpha_i A_i, $$\n",
        "\n",
        "Using initial conditions, we find that the pump and signal amplitutdes are:\n",
        "    \n",
        "$$  A_p = A_{po}e^{-\\alpha_p L}e^{}, $$\n",
        "\n",
        "$$  A_s = A_{so}e^{-\\alpha_sL}e^{-\\alpha_sz}, $$\n",
        "\n",
        "When these expressions are included in the differential equation for the idler wave,  we can solve and obtain the final expression for the backwards-propagating idler wave amplitude as a function of z:\n",
        "\n",
        " $$ A_i(z) = \\frac{3i\\mu_i\\chi_i^{(3)}\\omega_i}{2n_ic} A_{po}^2A_{so}^{*}e^{-\\alpha_p L} (\\frac{e^{(\\Delta \\alpha - i\\Delta \n",
        "k_b)z} - e^{-\\alpha_iz} }{i \\Delta k_f  \\Delta \\alpha + \\alpha_i})  $$\n"
      ]
    },
    {
      "cell_type": "markdown",
      "id": "898b3a30",
      "metadata": {
        "id": "898b3a30"
      },
      "source": [
        "### **4.5 Non-collinear beams**\n",
        "\n",
        "#### Orthogonal pump and signal beams\n",
        "\n",
        "Previously, the analysis has been carried out considering the initial fields of the pump, signal, and idler beams, and then substituting these expressions into the wave equation to obtain differential equations that could be solved to make predictions. In the case of an orthogonal signal beam, this approach cannot be used, as it depends on the collinearity of the beams, and the signal beam cannot be as simply defined as in the collinear cases. However, we can make the reasonable assumption that, as in the co- and counter-propagating pump and signal beam cases, the phase relationship between the constituent beams is the principal governing factor in the generation of a powerful idler wave. Therefore, to judge the phase-matching properties of this beam configuration,  the coherence length $l_c$ can be calculated by generalizing the phase-matching relation for an orthogonal signal beam. To do this, we use the Pythagorean theorem to split up the phase-matching relation into its x and y\n",
        "components:\n",
        "$$|\\vec{\\Delta k}|=\\sqrt{\\Delta k_x^2 + \\Delta k_y^2}$$\n",
        "For a forward or backward propagating idler wave, these componenets of $\\Delta k$ take the form:\n",
        "$$\\Delta k_x = 2k_p \\mp k_i$$\n",
        "$$\\Delta k_y = k_s$$\n",
        "Consequently, we obtain the expression:\n",
        "$$|\\vec{\\Delta k}| = \\sqrt{4k_p^2 + k_s^2 + k_i^2 \\mp 4k_pk_i}$$\n",
        "Now, in the case that $k_s = 0$, we get:\n",
        "$$|\\vec{\\Delta k}| = 2k_p \\mp k_i$$\n",
        "In this case, a forward-propagating idler wave will be trivially phase-matched for $k_p = 2k_i$. However, it is not so trivial to phase-match a backward propagating idler wave. Here, the usual trick of placing the pump or idler waves at the zero-index to remove their directional dependence does not work, as the signal wave already occupies this position.\n",
        "To resolve under what conditions forward- and backward-propagating idler waves would be phase-matched with this configuration, we can calculate $l_c$ using the formula $l_c = \\frac{2}{\\Delta k}$, investigating both forward- and backward-propagating light. In the case of forward-propagating idler light, we can see that the interaction is phasematched so long as the signal wave is located at the zero-index wavelength. This is because, as the pump and idler waves would be co-propagating in this case, the interaction can be phase-matched by ignoring the momentum contribution of the signal wave and placing it at the zero-index wavelength. In the case of a backward-propagating idler beam, the phase-matching condition is more restricting. This interaction is only phase matched if all constituent beams of the interaction are located near the zero index wavelength. We also see that when an interaction is phase-matched for a backward-propagating idler wave, it is additionally phase-matched for a forward-propagating idler wave.\n",
        "\n",
        "#### Omnidirectional phase matching with an arbitrary beam configuration\n",
        "\n",
        "We can obtain the coherence length for an arbitrary beam configuration. First, we define:\n",
        "$$|\\vec{\\Delta k}| = \\sqrt{\\Delta k_x^2 + \\Delta k_y^2 + \\Delta k_z^2}$$,\n",
        "and define the angles of the pump, signal, and idler waves in 3D coordinates. Without loss of generality, we may define the pump wave as being at $\\theta = \\frac{\\pi}{2}$; $\\phi = 0$, where $\\phi$ and $\\theta$ are the usual spherical\n",
        "coordinates. We can then define the signal wave as being on the xy-plane, and describe its position with respect to the pump wave with a single angle $\\phi_s$. Finally, we can describe the position of the idler wave using two angles: $\\phi_i$, the angle of the idler wave with respect to the pump wave on the xy-plane, and $\\theta_i$, the angle of the idler wave with respect to the pump and signal waves on the z-axis. Using the above definition for the angles, we can define the $k_x$, $k_y$, and $k_z$ components of the phase-matching constraint as:\n",
        "$$\\Delta k_x = 2k_p - k_scos\\phi_s - k_icos\\phi_icos\\theta_i$$\n",
        "$$\\Delta k_y = k_ssin\\theta_s + k_isin\\phi_icos\\theta_i$$\n",
        "$$\\Delta k_z = k_isin\\phi_i$$\n",
        "where the signs are chosen in accordance with the following figure.\n",
        "<img src=\"https://github.com/divyanshtiwari237/Photonics-Group7/blob/main/img.jpg?raw=1\" >\n",
        "Consequently, we get:\n",
        "$$|\\Delta k|=\\sqrt{4k_p^2 + k_s^2 + k_i^2 - 4k_p(k_scos\\phi_s + k_icos\\phi_icos\\theta_i) + 2k_sk_icos\\theta_i(cos\\phi_scos\\phi_i + sin \\phi_s\\phi_i)}$$\n",
        "Using this relation, we can plot some graphs to get an idea of the phase matching and coherence length."
      ]
    },
    {
      "cell_type": "markdown",
      "id": "6defc324",
      "metadata": {
        "id": "6defc324"
      },
      "source": [
        "#Numerical Predictions of the coherence length"
      ]
    },
    {
      "cell_type": "code",
      "execution_count": null,
      "id": "f5ba7dd8",
      "metadata": {
        "id": "f5ba7dd8"
      },
      "outputs": [],
      "source": [
        "# constants\n",
        "lambda_ = ri_x\n",
        "lambda_min = 1.399e-06\n",
        "lambda_max = 1.751e-06\n",
        "number_of_points = 1001\n"
      ]
    },
    {
      "cell_type": "code",
      "execution_count": null,
      "id": "2aa10cf2",
      "metadata": {
        "id": "2aa10cf2"
      },
      "outputs": [],
      "source": [
        "#calculation of the phase difference\n",
        "\n",
        "lambda_fine = np.linspace(np.amin(lambda_),np.amax(lambda_),number_of_points)\n",
        "poly_order = 5\n",
        "def extents(f):\n",
        "    delta = f[1] - f[0]\n",
        "    a = [f[0] - delta/2, f[-1] + delta/2]\n",
        "    return a\n",
        "\n",
        "n_poly = n_fun(lambda_fine)\n",
        "lambda_p = np.transpose(np.linspace(1550,1650,number_of_points)) * 1e-09\n",
        "lambda_p = lambda_p[:,np.newaxis]\n",
        "\n",
        "lambda_s = np.linspace(1550,1650,number_of_points) * 1e-09\n",
        "temp_p = 2.0 / lambda_p\n",
        "temp_s = 1.0 / lambda_s\n",
        "lambda_i = (2 / lambda_p - 1.0 / lambda_s) ** - 1\n",
        "n_p = n_fun(lambda_p)\n",
        "n_s = n_fun(lambda_s)\n",
        "n_i = n_fun(lambda_i)\n",
        "angledivisions = 4\n",
        "anglesize = np.pi / (angledivisions / 2)\n",
        "lambda_i.shape\n",
        "x = lambda_s *1e9\n",
        "y = lambda_p*1e9\n"
      ]
    },
    {
      "cell_type": "code",
      "execution_count": null,
      "id": "e86f3dc1",
      "metadata": {
        "scrolled": true,
        "id": "e86f3dc1",
        "outputId": "01876f56-742c-4847-d700-64dc1bd4f786",
        "colab": {
          "base_uri": "https://localhost:8080/",
          "height": 471
        }
      },
      "outputs": [
        {
          "output_type": "stream",
          "name": "stderr",
          "text": [
            "/usr/local/lib/python3.7/dist-packages/ipykernel_launcher.py:23: RuntimeWarning: divide by zero encountered in true_divide\n",
            "/usr/local/lib/python3.7/dist-packages/ipykernel_launcher.py:25: MatplotlibDeprecationWarning: Adding an axes using the same arguments as a previous axes currently reuses the earlier instance.  In a future version, a new instance will always be created and returned.  Meanwhile, this warning can be suppressed, and the future behavior ensured, by passing a unique label to each axes instance.\n"
          ]
        },
        {
          "output_type": "display_data",
          "data": {
            "text/plain": [
              "<Figure size 432x288 with 16 Axes>"
            ],
            "image/png": "[encoded data removed]"
          },
          "metadata": {
            "needs_background": "light"
          }
        }
      ],
      "source": [
        "#Plotting the coherence length for different combination of angles\n",
        "plt.subplots_adjust(left=0.4,\n",
        "                    bottom=0.4,\n",
        "                    right=1.6,\n",
        "                    top=1.6,\n",
        "                    wspace=1.6,\n",
        "                    hspace=1.6)\n",
        "for k in np.arange(1,angledivisions+1).reshape(-1):\n",
        "    \n",
        "    k = 1\n",
        "    phi_i = (k - 1) * anglesize\n",
        "    for i in np.arange(1,angledivisions+1).reshape(-1):\n",
        "        theta_s = (i - 1) * anglesize\n",
        "        for j in np.arange(1,angledivisions+1).reshape(-1):\n",
        "            theta_i = (j - 1) * anglesize\n",
        "            \n",
        "          \n",
        "            kx = 2 * np.pi * (2 * n_p / lambda_p - n_s / lambda_s * np.cos(theta_s) - n_i / lambda_i * np.cos(theta_i) * np.cos(phi_i))\n",
        "            ky = 2 * np.pi * (n_s / lambda_s * np.sin(theta_s) + n_i / lambda_i * np.sin(theta_i) * np.cos(phi_i))\n",
        "            kz = 2 * np.pi * n_i / lambda_i * np.sin(phi_i)\n",
        "            delta_k = np.sqrt(kx ** 2 + ky ** 2 + kz ** 2)\n",
        "\n",
        "            L_coh = 2 / delta_k\n",
        "            \n",
        "            plt.subplot(angledivisions,angledivisions,angledivisions * (i - 1) + j)\n",
        "            \n",
        "            cm = plt.cm.get_cmap('RdYlBu')\n",
        "            norm=plt.Normalize(0,15)\n",
        "            a,b = extents(x)\n",
        "            c,d = extents(y)\n",
        "            extent=[1550,1650,1550,1650]\n",
        "            a = plt.imshow(L_coh*10**6,cmap = cm,norm =norm, aspect='auto', interpolation='none',extent= extent, origin='lower')\n",
        "            # if j == angledivisions:\n",
        "            #      plt.colorbar(a)\n",
        "           \n",
        "            plt.xlabel(' $\\lambda_s (nm)$ ')\n",
        "            plt.xlim(np.array([1550,1650]))\n",
        "           \n",
        "            plt.ylabel(' $\\lambda_p (nm)$ ')\n",
        "            plt.ylim(np.array([1550,1650]))\n",
        "#             plt.show()\n",
        "            \n",
        "            \n",
        "\n",
        "        \n",
        "\n"
      ]
    },
    {
      "cell_type": "markdown",
      "id": "f39f9e46",
      "metadata": {
        "id": "f39f9e46"
      },
      "source": [
        "# **5. Experiments**\n",
        "\n",
        "The experimental part consists of no coding, but explains how the experimental results shows that phase-matching conditions can be relaxed when employing zero-index material. It is divided into three overall experiments: Co-propagating pump and signal, counter-propagating pump and signal, and finally, an experiment where the signal beam is injected from outside the device layer plane. \n",
        "\n",
        "## Experimental setup\n",
        "\n",
        "### Pump\n",
        "\n",
        "For the pump laser they use a combination of a continous wave (CW) Verdi 10 532 nm laser as source, a Mira Optima Ti:Saphh used for mode-locking creating pulses of up to 840 nm, and a Mira-OPO optical parametric oscillator employing DFG to create its own signal and idler pulses that are not used in the experiment. This combination creates pulses with a repetition rate of 76 MHz, a temporal width of 3 ps, a spectral bandwidth of around 5 nm, and a peak power of 1300 W.\n",
        "\n",
        "The reason for them using a pulsed laser as pump is that pulsed lasers can achieve higher power. The power of the idler beam depends on the square of the power of the pump beam, so by having a high pump power one can generate an idler beam that is easier to detect.\n",
        "\n",
        "### Signal\n",
        "\n",
        "The idler power depends linearly on the signal power. However, as the pump is pulsed, they chose a continous wave laser as signal source, since the combination of both a pulsed pump and a pulsed signal would require considerations on how much the two pulses overlap into the theoretical derivation. It would also required careful spatial alignment of the two pulsed lasers which is very hard in practice. The signal laser is combined with an erbium-doped fiber amplifier that can only amplify waves of wavelength between 1535 and 1565 nm with a peak power of 2 W, substantially lower than the accesible pump power. By choosing a CW laser as signal and viewing the system from the frame of reference of the pump pulse the two waves overlap spatially all the time, and therefore, the system should fit the theoretical assumptions well.\n",
        "\n",
        "### Optical setup\n",
        "\n",
        "\n",
        "<div>\n",
        "<img src=\"https://github.com/divyanshtiwari237/Photonics-Group7/blob/main/opticalsetup.PNG?raw=1\" width=\"800\"/>\n",
        "</div>\n",
        "\n",
        "\n",
        "\n",
        "\n",
        "In above figure, the experimental setup is illustrated. Both signal and pump are first collimated using lenses (C1 and C2), after which they are adjusted to the same spot-size (0.5 cm) using two lenses for each of them (L1 and L2 for signal and L3 and L4 for pump). The beams are then sent through each their half-wave plate (HWP1 and 2) followed by polarizing beamsplitters. The combination of a half-wave plate and a polarizing beamsplitter can be used to control the power. The polarizing beamsplitter allows transverse polarization to pass further into the setup since this is the polarization needed for coupling into the zero-index waveguide.\n",
        "\n",
        "After this, there are two possible configurations: FM mirror in or out of place. If the FM mirror is not in place the beams are co-propagating and enters the zero-index waveguide from the same side. If the FM mirror is in place they enter from opposite sides.\n",
        "\n",
        "The outputs of the zero-index waveguide is then collected on both sides via Fi1 and Fi2 after which they are guided into the optical spectrum analyzer (OSA). Note that the two beamsplitters located at the zero-index waveguide are placed such that the input signal and pump beams are not collected into the OSA before entering the zero-index waveguide.\n",
        "\n",
        "## Initial measurements\n",
        "\n",
        "In order to confirm that a measured idler wave is a result of a third order four wave mixing they performed a preliminary measurents. As mentioned, the idler power depends quadratically on the pump power so they measured the idler power for different values of pump power both for forward and backward propagating idler waves. The results can be seen in Fig. 5.2.\n",
        "\n",
        "\n",
        "<div>\n",
        "<img src=\"https://github.com/divyanshtiwari237/Photonics-Group7/blob/main/prel.PNG?raw=1\" width=\"500\"/>\n",
        "</div>\n",
        "\n",
        "\n",
        "\n",
        "Note that the axes on the above figure is in dBm scale which means that a straight line with a slope of 2 corresponds to a quadratic dependece. For the forward propagating idler in Fig. 5.2a they measured a slope of $2.2\\pm0.3$ and for the backward propagating idler wave in Fig. 5.2b) they measured $1.7\\pm0.3$. These are close to 2 which confirms that the idler power depends on the square of the pump power. However, there are still deviations from 2 which can be attributed to fluctuations in the pump spectrum and the fact that the measured idler power is very low making the measurements prone to influence of noise from the OSA.\n",
        "\n",
        "## Co-propagating signal and pump waves\n",
        "\n",
        "As found earlier, the forward propagating idler wave will always be well phase-matched when pump and signal are co-propagating but will, however, depend on loss and impedance when travelling through the waveguide. On the other hand, the backward propagating idler wave needs to have a wavelength at the zero-index wavelength in order to achieve phase-matching, but does not depend strongly on loss and impedance since this wave travels a smaller distance through the waveguide. \n",
        "\n",
        "<div>\n",
        "<img src=\"https://github.com/divyanshtiwari237/Photonics-Group7/blob/main/copropresult.PNG?raw=1\" width=\"600\"/>\n",
        "</div>\n",
        "\n",
        "\n",
        "\n",
        "\n",
        "The above figure shows the resulting measurements when having co-propagating pump and signal. \n",
        "\n",
        "Part a of the figure shows the spectra of the pump and the signal when measured independently. part b of the figure shows the measured spectrum from the forward propagating output of the zero-index waveguide. Note here, that an additinal peak corresponding to the forward propagating idler beam is measured with peak wavelength at 1600 nm corresponding to $\\omega_i = 2 \\omega_s - \\omega_p$. Part c of the figure shows measured spectra of the forward propagating idler wave of 10 different wavelength configurations of pump and signal generating idler beams of wavelengths in the interval 1570 to 1630 nm. The black curve represents the theoretical model. Part d of the figure shows the same as c, but for the backward propagating idler beam.\n",
        "\n",
        "From part c and d of the figure  it is evident, that the forward propagating idler wave behaves differently than the backward propagating idler wave. The forward propagating idler beam takes a dip centered at 1596 nm. The reason for this behaviour is explained by dispersive propagation loss and permeability values: At lower wavelengths loss is the dominating factor predicting a decrease in intensity for increasing wavelength, and at higher wavelengths, the effect of impedance is the dominating factor predicting an increase in intensity for increasing wavelength. These effects are included in the theoretical model,and therefore, the measurements agree well with the model.\n",
        "\n",
        "For the backward propagating wave in part d of the figure , it is evident that it peaks near the zero-index wavelength which is to be expected since this relaxes the phase-matching condition. The measurements agree well with the model in this case as well.\n",
        "\n",
        "The fact that the forward and backward propagating waves behave so differently when passing through the zero-index waveguide is a proof of these two waves being generated independently; the backward propagating wave is not merely a backscattered forward propagating wave and vice versa.\n",
        "\n",
        "## Counter-propagating signal and pump waves\n",
        "As mentioned, when signal and pump propagate in opposite directions, the forward propagating idler will be phase-matched well when the signal has a wavelength corresponding to the zero-index wavelength. The backward propagating idler will be phase-matched well when the pump has a wavelength corresponding to the zero-index wavelength. In the experiment they have practical constraints and choose a signal wavelength of 1565 and a pump wavelength of 1600 nm, which is a tradeoff that satisfies both requirements to some degree. \n",
        "\n",
        "\n",
        "<div>\n",
        "<img src=\"https://github.com/divyanshtiwari237/Photonics-Group7/blob/main/countepropresult.PNG?raw=1\" width=\"400\"/>\n",
        "</div>\n",
        "\n",
        "\n",
        "\n",
        "The figure shows the resulting output spectra in the forward and backward directions. Here it is clear, that idler waves are generated in both directions at a wavelength of 1630 nm.\n",
        "\n",
        "## Signal coupled from outside of device layer\n",
        "\n",
        "In the last experiment,  they couple the signal into the waveguide by shining the signal on the same side as the incoming pump beam but at an angle of 9.8 degrees with respect to the device in order to satisfy Snell's law. The signal wavelength is 1565 nm and the pump wavelength is 1585 nm. As found earlier, in such configuration all the beams need to be near the zero-index wavelength which is the case to some extent in this experiment.\n",
        "\n",
        "<div>\n",
        "<img src=\"https://github.com/divyanshtiwari237/Photonics-Group7/blob/main/outofplane.PNG?raw=1\" width=\"400\"/>\n",
        "</div>\n",
        "\n",
        "\n",
        "Figure  shows the measured backward propagating spectrum. This figure also shows that an idler is only generated when both pump and signal are applied simultanously, proving that the generated idler is a result of four wave mixing. Here only the backward propagating idler is observed, because the forward propagating idler was not observable due to the longer propagation length through the waveguide.\n",
        "\n",
        "The observation of an idler beam in this configuration can be explained in two possible ways. One explanation is that the phase-matching condition has been so relaxed by the vanishing k-vectors that four wave mixing is possible even though the signal comes from a completely other direction than the guided modes in the waveguide. The other explanation is that the signal beam can couple into the waveguide and then take part in four wave mixing afterwards. The vanishing k-vector would enable the coupling in this case. The experiment cannot show which of the two expanations is true, but in both cases the zero-index material has enabled four wave mixing when exciting from outside the plane of the guided modes.\n",
        "\n",
        "The fact that a four wave mixing process is possible in such a configuration demonstrates the potential of zero-index material and how it can relax directional phase matching conditions, which can be used in future applications."
      ]
    },
    {
      "cell_type": "markdown",
      "id": "86dee35d",
      "metadata": {
        "id": "86dee35d"
      },
      "source": [
        "## **6. Summary & Conclusion**\n",
        "\n",
        "Nonlinear optics is a field that has had a wide variety of applications since its inception. Phase matching requirements are a fundamental constraint that limit the efficiency of all parametric nonlinear optical processes. To address this constraint, the authors utilized a Dirac-cone zero-index ridged silicon waveguide. This waveguide functioned by using photonic crystals to achieve the simultaneous zero-crossing and the permittivity and permeability values. It exhibited a zero-index at a wavelength of 1600 nm and a near-zero-index region in the 100 nm range in the surrounding bandwidth. Before performing our experiment, they derived a model capable of predicting the generated idler wave power as a function of the pump and signal wavelengths for a\n",
        "given refractive index profile. For the refractive index profile of our zero-index waveguide, they observed that a FWM process is always phase-matched under some condition for all orientations of pump, signal, and idler waves. This constituted a theoretical demonstration of the existence of omnidirectional phase matching. To experimentally verify this theory, they\n",
        "investigated three different configurations of the pump and signal lasers when coupling into the waveguide: co-propagating, counter-propagating, and with an out-of-plane signal beam. They realized this FWM interaction by using a strong pulsed laser as the pump laser, and a CW laser as our signal laser to seed the interaction. When the pump and signal beams were co-propagating, they observed forward- and backward-propagating idler waves. They furthermore verified that the relative powers of these idler waves were those predicted by their phase-matching theory. When the pump and signal beams were counter-propagating, they again showed that forward- and backward-propagating idler waves could be generated. They additionally demonstrated that phase matching could even occur with non-collinear beams by showing that a backward-generated idler wave could be generated from a signal\n",
        "beam coupling in from outside the beam plane, orthogonal to the pump beam. In total, five different configurations of the pump, signal, and idler waves were investigated. By sampling these five configurations of the pump, signal, and idler waves, the authors therefore demonstrated sharply reduced dimensional restriction in a nonlinear optical interaction’s components present when using a zero-index material. Furthermore, by showing that one of the core restrictions in applying nonlinear optics may be thereby bypassed, their results in circumventing this restriction would facilitate nonlinear optics applications and make\n",
        "them more accessible to broader scientific research."
      ]
    },
    {
      "cell_type": "markdown",
      "id": "51eef8aa",
      "metadata": {
        "id": "51eef8aa"
      },
      "source": [
        "## **7. References**\n",
        "\n",
        "1. https://www.researchgate.net/publication/333678730_Second_harmonic_microscopy_of_poled_x-cut_thin_film_lithium_niobate_Understanding_the_contrast_mechanism/link/5d0194674585157d15a6a177/download\n",
        "2. Haim Suchowski et al. “Phase mismatch-free nonlinear propagation in optical zero-index materials”. In: Science 342 (Dec. 2013), pp. 1223–1226.\n",
        "3. Shoufeng Lan et al. “Backward phase-matching for nonlinear optical generation in negative-index materials”. In: Nature Mater. 14.8 (June 2015), pp. 807–811.\n",
        "4. Liangliang Liu et al. “Backward Phase Matching for Second Harmonic Generation in Negative-Index Conformal Surface Plasmonic Metamaterials”. In: Advanced Science 5.11 (Aug. 2018), p. 1800661.\n",
        "5. Ilya V. Shadrivov, Alexander A. Zharov, and Yuri S. Kivshar. “Second-harmonic generation in nonlinear left-handed metamaterials”. In: J. Opt. Soc. Am. B 23.3 (Mar. 2006), pp. 529–534.\n",
        "6. A. Popov and Vladimir Shalaev. “Negative-Index Metamaterials: Second-Harmonic Generation, Manley-Rowe Relations and Parametric Amplification”. In: Applied Physics B 84 (Jan. 2006).\n",
        "7. https://arxiv.org/pdf/2102.13074.pdf"
      ]
    }
  ],
  "metadata": {
    "kernelspec": {
      "display_name": "Python 3 (ipykernel)",
      "language": "python",
      "name": "python3"
    },
    "language_info": {
      "codemirror_mode": {
        "name": "ipython",
        "version": 3
      },
      "file_extension": ".py",
      "mimetype": "text/x-python",
      "name": "python",
      "nbconvert_exporter": "python",
      "pygments_lexer": "ipython3",
      "version": "3.8.10"
    },
    "colab": {
      "provenance": [],
      "collapsed_sections": []
    }
  },
  "nbformat": 4,
  "nbformat_minor": 5
}